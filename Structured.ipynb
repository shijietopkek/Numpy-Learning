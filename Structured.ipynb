{
 "cells": [
  {
   "cell_type": "markdown",
   "metadata": {},
   "source": [
    "<h1>Creating Structured Arrays</h1>"
   ]
  },
  {
   "cell_type": "code",
   "execution_count": 16,
   "metadata": {},
   "outputs": [],
   "source": [
    "import numpy as np"
   ]
  },
  {
   "cell_type": "markdown",
   "metadata": {},
   "source": [
    "### define named attributes of array\n",
    "##### S10 = string with char length<=10\n",
    "##### f8, i8= 64-bit float, int (f4, i4 for 32 bit, or simply float, int)"
   ]
  },
  {
   "cell_type": "code",
   "execution_count": 17,
   "metadata": {},
   "outputs": [
    {
     "data": {
      "text/plain": [
       "[('name', 'S10'), ('height', 'f8'), ('weight', 'f8'), ('age', 'i8')]"
      ]
     },
     "execution_count": 17,
     "metadata": {},
     "output_type": "execute_result"
    }
   ],
   "source": [
    "person_data_def = [('name','S10'),('height','f8'),('weight','f8'), ('age', 'i8')]\n",
    "person_data_def"
   ]
  },
  {
   "cell_type": "code",
   "execution_count": 18,
   "metadata": {},
   "outputs": [
    {
     "data": {
      "text/plain": [
       "array([(b'', 0., 0., 0), (b'', 0., 0., 0), (b'', 0., 0., 0),\n",
       "       (b'', 0., 0., 0)],\n",
       "      dtype=[('name', 'S10'), ('height', '<f8'), ('weight', '<f8'), ('age', '<i8')])"
      ]
     },
     "execution_count": 18,
     "metadata": {},
     "output_type": "execute_result"
    }
   ],
   "source": [
    "people_array = np.zeros((4),dtype=person_data_def)\n",
    "people_array"
   ]
  },
  {
   "cell_type": "code",
   "execution_count": 19,
   "metadata": {},
   "outputs": [
    {
     "data": {
      "text/plain": [
       "array([(b'alpha', 1.57, 67.1, 16), (b'', 0.  ,  0. ,  0),\n",
       "       (b'charlie', 1.89, 89.2, 23), (b'', 0.  ,  0. ,  0)],\n",
       "      dtype=[('name', 'S10'), ('height', '<f8'), ('weight', '<f8'), ('age', '<i8')])"
      ]
     },
     "execution_count": 19,
     "metadata": {},
     "output_type": "execute_result"
    }
   ],
   "source": [
    "people_array[0] = (\"alpha\", 1.57, 67.1, 16)\n",
    "people_array[2] = (\"charlie\", 1.89, 89.2, 23)\n",
    "people_array"
   ]
  },
  {
   "cell_type": "code",
   "execution_count": 20,
   "metadata": {},
   "outputs": [
    {
     "data": {
      "text/plain": [
       "array([16,  0, 23,  0], dtype=int64)"
      ]
     },
     "execution_count": 20,
     "metadata": {},
     "output_type": "execute_result"
    }
   ],
   "source": [
    "people_array[\"age\"]"
   ]
  },
  {
   "cell_type": "code",
   "execution_count": 21,
   "metadata": {},
   "outputs": [
    {
     "data": {
      "text/plain": [
       "array([(b'alpha', 1.57, 67.1, 18), (b'', 0.  ,  0. ,  0),\n",
       "       (b'charlie', 1.89, 89.2, 23), (b'', 0.  ,  0. ,  0)],\n",
       "      dtype=[('name', 'S10'), ('height', '<f8'), ('weight', '<f8'), ('age', '<i8')])"
      ]
     },
     "execution_count": 21,
     "metadata": {},
     "output_type": "execute_result"
    }
   ],
   "source": [
    "people_array[\"age\"][0] = 18\n",
    "people_array"
   ]
  },
  {
   "cell_type": "code",
   "execution_count": 22,
   "metadata": {},
   "outputs": [
    {
     "data": {
      "text/plain": [
       "array([[[(b'', 0., 0., 0), (b'', 0., 0., 0)],\n",
       "        [(b'', 0., 0., 0), (b'', 0., 0., 0)],\n",
       "        [(b'', 0., 0., 0), (b'', 0., 0., 0)]],\n",
       "\n",
       "       [[(b'', 0., 0., 0), (b'', 0., 0., 0)],\n",
       "        [(b'', 0., 0., 0), (b'', 0., 0., 0)],\n",
       "        [(b'', 0., 0., 0), (b'', 0., 0., 0)]],\n",
       "\n",
       "       [[(b'', 0., 0., 0), (b'', 0., 0., 0)],\n",
       "        [(b'', 0., 0., 0), (b'', 0., 0., 0)],\n",
       "        [(b'', 0., 0., 0), (b'', 0., 0., 0)]],\n",
       "\n",
       "       [[(b'', 0., 0., 0), (b'', 0., 0., 0)],\n",
       "        [(b'', 0., 0., 0), (b'', 0., 0., 0)],\n",
       "        [(b'', 0., 0., 0), (b'', 0., 0., 0)]]],\n",
       "      dtype=[('name', 'S10'), ('height', '<f8'), ('weight', '<f8'), ('age', '<i8')])"
      ]
     },
     "execution_count": 22,
     "metadata": {},
     "output_type": "execute_result"
    }
   ],
   "source": [
    "people_array_3d = np.zeros((4,3,2), dtype=person_data_def)\n",
    "people_array_3d"
   ]
  },
  {
   "cell_type": "code",
   "execution_count": 23,
   "metadata": {},
   "outputs": [
    {
     "data": {
      "text/plain": [
       "array([[[(b'', 0. ,  0.,  0), (b'', 0. ,  0.,  0)],\n",
       "        [(b'', 0. ,  0.,  0), (b'', 0. ,  0.,  0)],\n",
       "        [(b'', 0. ,  0.,  0), (b'', 0. ,  0.,  0)]],\n",
       "\n",
       "       [[(b'', 0. ,  0.,  0), (b'', 0. ,  0.,  0)],\n",
       "        [(b'', 0. ,  0.,  0), (b'', 0. ,  0.,  0)],\n",
       "        [(b'', 0. ,  0.,  0), (b'', 0. ,  0.,  0)]],\n",
       "\n",
       "       [[(b'', 0. ,  0.,  0), (b'', 0. ,  0.,  0)],\n",
       "        [(b'', 0. ,  0.,  0), (b'', 0. ,  0.,  0)],\n",
       "        [(b'', 0. ,  0.,  0), (b'', 0. ,  0.,  0)]],\n",
       "\n",
       "       [[(b'', 0. ,  0.,  0), (b'', 0. ,  0.,  0)],\n",
       "        [(b'', 0. ,  0.,  0), (b'', 0. ,  0.,  0)],\n",
       "        [(b'', 0. ,  0.,  0), (b'Lil Peep', 1.6, 61., 18)]]],\n",
       "      dtype=[('name', 'S10'), ('height', '<f8'), ('weight', '<f8'), ('age', '<i8')])"
      ]
     },
     "execution_count": 23,
     "metadata": {},
     "output_type": "execute_result"
    }
   ],
   "source": [
    "people_array_3d[3,2,1] = (\"Lil Peep\", 1.60,61,18)\n",
    "people_array_3d"
   ]
  },
  {
   "cell_type": "code",
   "execution_count": 24,
   "metadata": {},
   "outputs": [
    {
     "data": {
      "text/plain": [
       "array([[[ 0.,  0.],\n",
       "        [ 0.,  0.],\n",
       "        [ 0.,  0.]],\n",
       "\n",
       "       [[ 0.,  0.],\n",
       "        [ 0.,  0.],\n",
       "        [ 0.,  0.]],\n",
       "\n",
       "       [[ 0.,  0.],\n",
       "        [ 0.,  0.],\n",
       "        [ 0.,  0.]],\n",
       "\n",
       "       [[ 0.,  0.],\n",
       "        [ 0.,  0.],\n",
       "        [ 0., 61.]]])"
      ]
     },
     "execution_count": 24,
     "metadata": {},
     "output_type": "execute_result"
    }
   ],
   "source": [
    "people_array_3d[\"weight\"]"
   ]
  },
  {
   "cell_type": "code",
   "execution_count": 26,
   "metadata": {},
   "outputs": [
    {
     "data": {
      "text/plain": [
       "array([[[( 0.,  0), ( 0.,  0)],\n",
       "        [( 0.,  0), ( 0.,  0)],\n",
       "        [( 0.,  0), ( 0.,  0)]],\n",
       "\n",
       "       [[( 0.,  0), ( 0.,  0)],\n",
       "        [( 0.,  0), ( 0.,  0)],\n",
       "        [( 0.,  0), ( 0.,  0)]],\n",
       "\n",
       "       [[( 0.,  0), ( 0.,  0)],\n",
       "        [( 0.,  0), ( 0.,  0)],\n",
       "        [( 0.,  0), ( 0.,  0)]],\n",
       "\n",
       "       [[( 0.,  0), ( 0.,  0)],\n",
       "        [( 0.,  0), ( 0.,  0)],\n",
       "        [( 0.,  0), (61., 18)]]],\n",
       "      dtype={'names':['weight','age'], 'formats':['<f8','<i8'], 'offsets':[18,26], 'itemsize':34})"
      ]
     },
     "execution_count": 26,
     "metadata": {},
     "output_type": "execute_result"
    }
   ],
   "source": [
    "people_array_3d[[\"weight\",\"age\"]]"
   ]
  },
  {
   "cell_type": "code",
   "execution_count": 27,
   "metadata": {},
   "outputs": [
    {
     "data": {
      "text/plain": [
       "array([[[( 0,  0.), ( 0,  0.)],\n",
       "        [( 0,  0.), ( 0,  0.)],\n",
       "        [( 0,  0.), ( 0,  0.)]],\n",
       "\n",
       "       [[( 0,  0.), ( 0,  0.)],\n",
       "        [( 0,  0.), ( 0,  0.)],\n",
       "        [( 0,  0.), ( 0,  0.)]],\n",
       "\n",
       "       [[( 0,  0.), ( 0,  0.)],\n",
       "        [( 0,  0.), ( 0,  0.)],\n",
       "        [( 0,  0.), ( 0,  0.)]],\n",
       "\n",
       "       [[( 0,  0.), ( 0,  0.)],\n",
       "        [( 0,  0.), ( 0,  0.)],\n",
       "        [( 0,  0.), (18, 61.)]]],\n",
       "      dtype={'names':['age','weight'], 'formats':['<i8','<f8'], 'offsets':[26,18], 'itemsize':34})"
      ]
     },
     "execution_count": 27,
     "metadata": {},
     "output_type": "execute_result"
    }
   ],
   "source": [
    "people_array_3d[[\"age\",\"weight\"]]"
   ]
  },
  {
   "cell_type": "markdown",
   "metadata": {},
   "source": [
    "### Record Array- used for direct access to attributes of elements"
   ]
  },
  {
   "cell_type": "code",
   "execution_count": 29,
   "metadata": {},
   "outputs": [
    {
     "data": {
      "text/plain": [
       "rec.array([(b'A', 1.65, 76., 18), (b'B', 1.4 , 48., 12)],\n",
       "          dtype=[('name', 'S10'), ('height', '<f8'), ('weight', '<f8'), ('age', '<i8')])"
      ]
     },
     "execution_count": 29,
     "metadata": {},
     "output_type": "execute_result"
    }
   ],
   "source": [
    "people_array = [(\"A\",1.65,76,18),(\"B\",1.4,48,12)]\n",
    "people_record_array = np.rec.array(people_array,dtype=person_data_def)\n",
    "people_record_array"
   ]
  },
  {
   "cell_type": "code",
   "execution_count": 31,
   "metadata": {},
   "outputs": [
    {
     "data": {
      "text/plain": [
       "array([b'A', b'B'], dtype='|S10')"
      ]
     },
     "execution_count": 31,
     "metadata": {},
     "output_type": "execute_result"
    }
   ],
   "source": [
    "people_record_array.name"
   ]
  },
  {
   "cell_type": "code",
   "execution_count": 33,
   "metadata": {},
   "outputs": [],
   "source": [
    "person = people_record_array[0]"
   ]
  },
  {
   "cell_type": "code",
   "execution_count": 34,
   "metadata": {},
   "outputs": [
    {
     "data": {
      "text/plain": [
       "b'A'"
      ]
     },
     "execution_count": 34,
     "metadata": {},
     "output_type": "execute_result"
    }
   ],
   "source": [
    "person.name"
   ]
  },
  {
   "cell_type": "code",
   "execution_count": 35,
   "metadata": {},
   "outputs": [
    {
     "data": {
      "text/plain": [
       "1.65"
      ]
     },
     "execution_count": 35,
     "metadata": {},
     "output_type": "execute_result"
    }
   ],
   "source": [
    "person.height"
   ]
  },
  {
   "cell_type": "code",
   "execution_count": 36,
   "metadata": {},
   "outputs": [
    {
     "data": {
      "text/plain": [
       "76.0"
      ]
     },
     "execution_count": 36,
     "metadata": {},
     "output_type": "execute_result"
    }
   ],
   "source": [
    "person.weight"
   ]
  },
  {
   "cell_type": "code",
   "execution_count": 37,
   "metadata": {},
   "outputs": [
    {
     "data": {
      "text/plain": [
       "18"
      ]
     },
     "execution_count": 37,
     "metadata": {},
     "output_type": "execute_result"
    }
   ],
   "source": [
    "person.age"
   ]
  }
 ],
 "metadata": {
  "kernelspec": {
   "display_name": "Python 3",
   "language": "python",
   "name": "python3"
  },
  "language_info": {
   "codemirror_mode": {
    "name": "ipython",
    "version": 3
   },
   "file_extension": ".py",
   "mimetype": "text/x-python",
   "name": "python",
   "nbconvert_exporter": "python",
   "pygments_lexer": "ipython3",
   "version": "3.7.6"
  }
 },
 "nbformat": 4,
 "nbformat_minor": 1
}
